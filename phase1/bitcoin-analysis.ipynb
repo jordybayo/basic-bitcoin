{
 "cells": [
  {
   "cell_type": "code",
   "execution_count": 18,
   "metadata": {},
   "outputs": [],
   "source": [
    "import matplotlib.pyplot as plt\n",
    "import pandas as pd\n",
    "%matplotlib inline\n",
    "pd.options.mode.chained_assignment = None"
   ]
  },
  {
   "cell_type": "code",
   "execution_count": 19,
   "metadata": {},
   "outputs": [],
   "source": [
    "price = pd.read_csv(\"BTC_USD_2020-12-08_2021-12-07-CoinDesk.csv\")"
   ]
  },
  {
   "cell_type": "code",
   "execution_count": 20,
   "metadata": {},
   "outputs": [
    {
     "data": {
      "text/html": [
       "<div>\n",
       "<style scoped>\n",
       "    .dataframe tbody tr th:only-of-type {\n",
       "        vertical-align: middle;\n",
       "    }\n",
       "\n",
       "    .dataframe tbody tr th {\n",
       "        vertical-align: top;\n",
       "    }\n",
       "\n",
       "    .dataframe thead th {\n",
       "        text-align: right;\n",
       "    }\n",
       "</style>\n",
       "<table border=\"1\" class=\"dataframe\">\n",
       "  <thead>\n",
       "    <tr style=\"text-align: right;\">\n",
       "      <th></th>\n",
       "      <th>Currency</th>\n",
       "      <th>Date</th>\n",
       "      <th>Closing Price (USD)</th>\n",
       "      <th>24h Open (USD)</th>\n",
       "      <th>24h High (USD)</th>\n",
       "      <th>24h Low (USD)</th>\n",
       "    </tr>\n",
       "  </thead>\n",
       "  <tbody>\n",
       "    <tr>\n",
       "      <th>0</th>\n",
       "      <td>BTC</td>\n",
       "      <td>2020-12-08</td>\n",
       "      <td>19180.078916</td>\n",
       "      <td>19379.229525</td>\n",
       "      <td>19428.048633</td>\n",
       "      <td>18909.000000</td>\n",
       "    </tr>\n",
       "    <tr>\n",
       "      <th>1</th>\n",
       "      <td>BTC</td>\n",
       "      <td>2020-12-09</td>\n",
       "      <td>18320.986767</td>\n",
       "      <td>19179.779426</td>\n",
       "      <td>19299.267992</td>\n",
       "      <td>18200.000000</td>\n",
       "    </tr>\n",
       "    <tr>\n",
       "      <th>2</th>\n",
       "      <td>BTC</td>\n",
       "      <td>2020-12-10</td>\n",
       "      <td>18549.094214</td>\n",
       "      <td>18321.000000</td>\n",
       "      <td>18641.832428</td>\n",
       "      <td>17646.893954</td>\n",
       "    </tr>\n",
       "    <tr>\n",
       "      <th>3</th>\n",
       "      <td>BTC</td>\n",
       "      <td>2020-12-11</td>\n",
       "      <td>18245.500000</td>\n",
       "      <td>18549.209271</td>\n",
       "      <td>18553.531473</td>\n",
       "      <td>17913.500000</td>\n",
       "    </tr>\n",
       "    <tr>\n",
       "      <th>4</th>\n",
       "      <td>BTC</td>\n",
       "      <td>2020-12-12</td>\n",
       "      <td>18029.202400</td>\n",
       "      <td>18245.500000</td>\n",
       "      <td>18285.000000</td>\n",
       "      <td>17588.285552</td>\n",
       "    </tr>\n",
       "  </tbody>\n",
       "</table>\n",
       "</div>"
      ],
      "text/plain": [
       "  Currency        Date  Closing Price (USD)  24h Open (USD)  24h High (USD)  \\\n",
       "0      BTC  2020-12-08         19180.078916    19379.229525    19428.048633   \n",
       "1      BTC  2020-12-09         18320.986767    19179.779426    19299.267992   \n",
       "2      BTC  2020-12-10         18549.094214    18321.000000    18641.832428   \n",
       "3      BTC  2020-12-11         18245.500000    18549.209271    18553.531473   \n",
       "4      BTC  2020-12-12         18029.202400    18245.500000    18285.000000   \n",
       "\n",
       "   24h Low (USD)  \n",
       "0   18909.000000  \n",
       "1   18200.000000  \n",
       "2   17646.893954  \n",
       "3   17913.500000  \n",
       "4   17588.285552  "
      ]
     },
     "execution_count": 20,
     "metadata": {},
     "output_type": "execute_result"
    }
   ],
   "source": [
    "price.head()"
   ]
  },
  {
   "cell_type": "code",
   "execution_count": 21,
   "metadata": {},
   "outputs": [
    {
     "name": "stdout",
     "output_type": "stream",
     "text": [
      "<class 'pandas.core.frame.DataFrame'>\n",
      "RangeIndex: 365 entries, 0 to 364\n",
      "Data columns (total 6 columns):\n",
      " #   Column               Non-Null Count  Dtype  \n",
      "---  ------               --------------  -----  \n",
      " 0   Currency             365 non-null    object \n",
      " 1   Date                 365 non-null    object \n",
      " 2   Closing Price (USD)  365 non-null    float64\n",
      " 3   24h Open (USD)       365 non-null    float64\n",
      " 4   24h High (USD)       365 non-null    float64\n",
      " 5   24h Low (USD)        365 non-null    float64\n",
      "dtypes: float64(4), object(2)\n",
      "memory usage: 17.2+ KB\n"
     ]
    }
   ],
   "source": [
    "price.info()"
   ]
  },
  {
   "cell_type": "code",
   "execution_count": 22,
   "metadata": {},
   "outputs": [
    {
     "data": {
      "text/html": [
       "<div>\n",
       "<style scoped>\n",
       "    .dataframe tbody tr th:only-of-type {\n",
       "        vertical-align: middle;\n",
       "    }\n",
       "\n",
       "    .dataframe tbody tr th {\n",
       "        vertical-align: top;\n",
       "    }\n",
       "\n",
       "    .dataframe thead th {\n",
       "        text-align: right;\n",
       "    }\n",
       "</style>\n",
       "<table border=\"1\" class=\"dataframe\">\n",
       "  <thead>\n",
       "    <tr style=\"text-align: right;\">\n",
       "      <th></th>\n",
       "      <th>Currency</th>\n",
       "      <th>Date</th>\n",
       "      <th>Closing Price (USD)</th>\n",
       "      <th>24h Open (USD)</th>\n",
       "      <th>24h High (USD)</th>\n",
       "      <th>24h Low (USD)</th>\n",
       "    </tr>\n",
       "  </thead>\n",
       "  <tbody>\n",
       "    <tr>\n",
       "      <th>360</th>\n",
       "      <td>BTC</td>\n",
       "      <td>2021-12-03</td>\n",
       "      <td>56524.829562</td>\n",
       "      <td>57236.861498</td>\n",
       "      <td>57405.500000</td>\n",
       "      <td>55858.300000</td>\n",
       "    </tr>\n",
       "    <tr>\n",
       "      <th>361</th>\n",
       "      <td>BTC</td>\n",
       "      <td>2021-12-04</td>\n",
       "      <td>53694.690000</td>\n",
       "      <td>56523.505903</td>\n",
       "      <td>57652.000000</td>\n",
       "      <td>51808.544500</td>\n",
       "    </tr>\n",
       "    <tr>\n",
       "      <th>362</th>\n",
       "      <td>BTC</td>\n",
       "      <td>2021-12-05</td>\n",
       "      <td>49266.120000</td>\n",
       "      <td>53662.510658</td>\n",
       "      <td>53857.420000</td>\n",
       "      <td>42019.861197</td>\n",
       "    </tr>\n",
       "    <tr>\n",
       "      <th>363</th>\n",
       "      <td>BTC</td>\n",
       "      <td>2021-12-06</td>\n",
       "      <td>49455.282036</td>\n",
       "      <td>49255.100000</td>\n",
       "      <td>49759.584508</td>\n",
       "      <td>47842.900000</td>\n",
       "    </tr>\n",
       "    <tr>\n",
       "      <th>364</th>\n",
       "      <td>BTC</td>\n",
       "      <td>2021-12-07</td>\n",
       "      <td>50564.300000</td>\n",
       "      <td>49456.460834</td>\n",
       "      <td>50965.025685</td>\n",
       "      <td>47261.500000</td>\n",
       "    </tr>\n",
       "  </tbody>\n",
       "</table>\n",
       "</div>"
      ],
      "text/plain": [
       "    Currency        Date  Closing Price (USD)  24h Open (USD)  24h High (USD)  \\\n",
       "360      BTC  2021-12-03         56524.829562    57236.861498    57405.500000   \n",
       "361      BTC  2021-12-04         53694.690000    56523.505903    57652.000000   \n",
       "362      BTC  2021-12-05         49266.120000    53662.510658    53857.420000   \n",
       "363      BTC  2021-12-06         49455.282036    49255.100000    49759.584508   \n",
       "364      BTC  2021-12-07         50564.300000    49456.460834    50965.025685   \n",
       "\n",
       "     24h Low (USD)  \n",
       "360   55858.300000  \n",
       "361   51808.544500  \n",
       "362   42019.861197  \n",
       "363   47842.900000  \n",
       "364   47261.500000  "
      ]
     },
     "execution_count": 22,
     "metadata": {},
     "output_type": "execute_result"
    }
   ],
   "source": [
    "price.tail()"
   ]
  },
  {
   "cell_type": "code",
   "execution_count": 23,
   "metadata": {},
   "outputs": [],
   "source": [
    "price.dropna(inplace=True)"
   ]
  },
  {
   "cell_type": "code",
   "execution_count": 48,
   "metadata": {},
   "outputs": [],
   "source": [
    "price['Date'] = pd.to_datetime(price['Date'], format=\"%Y-%m-%d\")"
   ]
  },
  {
   "cell_type": "code",
   "execution_count": 49,
   "metadata": {},
   "outputs": [
    {
     "data": {
      "text/plain": [
       "Timestamp('2020-12-09 00:00:00')"
      ]
     },
     "execution_count": 49,
     "metadata": {},
     "output_type": "execute_result"
    }
   ],
   "source": [
    "price['Date'][1]\n",
    "# price['2020-12-09':]"
   ]
  },
  {
   "cell_type": "code",
   "execution_count": 50,
   "metadata": {},
   "outputs": [
    {
     "data": {
      "text/plain": [
       "Currency                               BTC\n",
       "Date                   2020-12-08 00:00:00\n",
       "Closing Price (USD)             18029.2024\n",
       "24h Open (USD)                     18031.5\n",
       "24h High (USD)                     18285.0\n",
       "24h Low (USD)                 17588.285552\n",
       "dtype: object"
      ]
     },
     "execution_count": 50,
     "metadata": {},
     "output_type": "execute_result"
    }
   ],
   "source": [
    "price.min()"
   ]
  },
  {
   "cell_type": "code",
   "execution_count": 51,
   "metadata": {},
   "outputs": [
    {
     "data": {
      "text/plain": [
       "Currency                               BTC\n",
       "Date                   2021-12-07 00:00:00\n",
       "Closing Price (USD)            67553.94893\n",
       "24h Open (USD)                    67554.84\n",
       "24h High (USD)                     68990.9\n",
       "24h Low (USD)                      66316.0\n",
       "dtype: object"
      ]
     },
     "execution_count": 51,
     "metadata": {},
     "output_type": "execute_result"
    }
   ],
   "source": [
    "price.max()"
   ]
  },
  {
   "cell_type": "code",
   "execution_count": 52,
   "metadata": {},
   "outputs": [
    {
     "data": {
      "text/html": [
       "<div>\n",
       "<style scoped>\n",
       "    .dataframe tbody tr th:only-of-type {\n",
       "        vertical-align: middle;\n",
       "    }\n",
       "\n",
       "    .dataframe tbody tr th {\n",
       "        vertical-align: top;\n",
       "    }\n",
       "\n",
       "    .dataframe thead th {\n",
       "        text-align: right;\n",
       "    }\n",
       "</style>\n",
       "<table border=\"1\" class=\"dataframe\">\n",
       "  <thead>\n",
       "    <tr style=\"text-align: right;\">\n",
       "      <th></th>\n",
       "      <th>Closing Price (USD)</th>\n",
       "      <th>24h Open (USD)</th>\n",
       "      <th>24h High (USD)</th>\n",
       "      <th>24h Low (USD)</th>\n",
       "    </tr>\n",
       "  </thead>\n",
       "  <tbody>\n",
       "    <tr>\n",
       "      <th>count</th>\n",
       "      <td>365.000000</td>\n",
       "      <td>365.000000</td>\n",
       "      <td>365.000000</td>\n",
       "      <td>365.000000</td>\n",
       "    </tr>\n",
       "    <tr>\n",
       "      <th>mean</th>\n",
       "      <td>45658.116678</td>\n",
       "      <td>45575.024952</td>\n",
       "      <td>46966.105475</td>\n",
       "      <td>43974.978696</td>\n",
       "    </tr>\n",
       "    <tr>\n",
       "      <th>std</th>\n",
       "      <td>11623.082775</td>\n",
       "      <td>11699.008239</td>\n",
       "      <td>11803.168014</td>\n",
       "      <td>11509.845137</td>\n",
       "    </tr>\n",
       "    <tr>\n",
       "      <th>min</th>\n",
       "      <td>18029.202400</td>\n",
       "      <td>18031.500000</td>\n",
       "      <td>18285.000000</td>\n",
       "      <td>17588.285552</td>\n",
       "    </tr>\n",
       "    <tr>\n",
       "      <th>25%</th>\n",
       "      <td>35790.220000</td>\n",
       "      <td>35808.850000</td>\n",
       "      <td>37534.765017</td>\n",
       "      <td>34201.950000</td>\n",
       "    </tr>\n",
       "    <tr>\n",
       "      <th>50%</th>\n",
       "      <td>46992.592288</td>\n",
       "      <td>46851.013962</td>\n",
       "      <td>48248.000000</td>\n",
       "      <td>45055.700000</td>\n",
       "    </tr>\n",
       "    <tr>\n",
       "      <th>75%</th>\n",
       "      <td>56273.378701</td>\n",
       "      <td>56272.769148</td>\n",
       "      <td>57768.000000</td>\n",
       "      <td>54111.700000</td>\n",
       "    </tr>\n",
       "    <tr>\n",
       "      <th>max</th>\n",
       "      <td>67553.948930</td>\n",
       "      <td>67554.840000</td>\n",
       "      <td>68990.900000</td>\n",
       "      <td>66316.000000</td>\n",
       "    </tr>\n",
       "  </tbody>\n",
       "</table>\n",
       "</div>"
      ],
      "text/plain": [
       "       Closing Price (USD)  24h Open (USD)  24h High (USD)  24h Low (USD)\n",
       "count           365.000000      365.000000      365.000000     365.000000\n",
       "mean          45658.116678    45575.024952    46966.105475   43974.978696\n",
       "std           11623.082775    11699.008239    11803.168014   11509.845137\n",
       "min           18029.202400    18031.500000    18285.000000   17588.285552\n",
       "25%           35790.220000    35808.850000    37534.765017   34201.950000\n",
       "50%           46992.592288    46851.013962    48248.000000   45055.700000\n",
       "75%           56273.378701    56272.769148    57768.000000   54111.700000\n",
       "max           67553.948930    67554.840000    68990.900000   66316.000000"
      ]
     },
     "execution_count": 52,
     "metadata": {},
     "output_type": "execute_result"
    }
   ],
   "source": [
    "price.describe()"
   ]
  },
  {
   "cell_type": "code",
   "execution_count": 53,
   "metadata": {},
   "outputs": [
    {
     "data": {
      "text/plain": [
       "<AxesSubplot:>"
      ]
     },
     "execution_count": 53,
     "metadata": {},
     "output_type": "execute_result"
    },
    {
     "data": {
      "image/png": "[encoded data removed]",
      "text/plain": [
       "<Figure size 432x288 with 1 Axes>"
      ]
     },
     "metadata": {
      "needs_background": "light"
     },
     "output_type": "display_data"
    }
   ],
   "source": [
    "price.plot()"
   ]
  },
  {
   "cell_type": "code",
   "execution_count": null,
   "metadata": {},
   "outputs": [],
   "source": [
    "trans"
   ]
  }
 ],
 "metadata": {
  "interpreter": {
   "hash": "9855e1290354d9c21e278879dbe665225b505004e89d14fd828e9561c1f13f19"
  },
  "kernelspec": {
   "display_name": "Python 3.8.8 64-bit ('ai': conda)",
   "language": "python",
   "name": "python3"
  },
  "language_info": {
   "codemirror_mode": {
    "name": "ipython",
    "version": 3
   },
   "file_extension": ".py",
   "mimetype": "text/x-python",
   "name": "python",
   "nbconvert_exporter": "python",
   "pygments_lexer": "ipython3",
   "version": "3.8.8"
  },
  "orig_nbformat": 4
 },
 "nbformat": 4,
 "nbformat_minor": 2
}
